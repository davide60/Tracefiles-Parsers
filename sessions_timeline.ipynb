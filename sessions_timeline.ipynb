{
 "cells": [
  {
   "cell_type": "markdown",
   "id": "aac9827b",
   "metadata": {},
   "source": [
    "# Parse Tracefiles to characterise variance\n",
    "You must change the location of the script dir if you want to use relative paths to the trace.\n",
    "Or , set the absolute path to the location of the directory containing the tracefiles."
   ]
  },
  {
   "cell_type": "code",
   "execution_count": 26,
   "id": "b6c11b93",
   "metadata": {},
   "outputs": [],
   "source": [
    "import logging\n",
    "import pandas as pd\n",
    "import cx_Oracle\n",
    "import matplotlib.pyplot as plt\n",
    "import os\n",
    "import re\n",
    "import glob\n",
    "#abspath = os.path.abspath(__file__)\n",
    "#dname = os.path.dirname(abspath)\n",
    "#os.chdir(f\"{dname}/\")\n",
    "os.chdir(\"C:\\\\Users\\\\David Olivari\\\\Documents\\\\ONGOING DB WORK\\\\carsprd\\\\tracefiles_stuff\\\\bin\")\n",
    "trcs = glob.glob('../*.trc')\n",
    "re_sess= re.compile('^\\*\\*\\* SESSION ID:\\((\\d+\\.\\d+)\\) (.+)$')\n",
    "re_systime=re.compile('^.+tim=*([0-9]+) .+')"
   ]
  },
  {
   "cell_type": "markdown",
   "id": "2721c081",
   "metadata": {},
   "source": [
    "## parse the file\n",
    "convert durations to secs \n",
    "note how variables are initialised in the for loop"
   ]
  },
  {
   "cell_type": "code",
   "execution_count": 27,
   "id": "3d2c5c4a",
   "metadata": {},
   "outputs": [],
   "source": [
    "columns = ['filename','SessIdentifier' , 'sess_start' , 'sys_tm_max' , 'sys_tm_min', 'duration_secs']\n",
    "sessions_list=[]\n",
    "for trace in trcs:\n",
    "    with open(trace ) as f:\n",
    "        min_sys_ts=999999999999999999\n",
    "        max_sys_ts=0\n",
    "        for line in f:\n",
    "            sess_detail = re_sess.match(line)\n",
    "            sys_ts = re_systime.match(line)\n",
    "            if sess_detail:\n",
    "                sess_tuple = sess_detail.groups(0)\n",
    "            if sys_ts:\n",
    "                t = int(sys_ts.groups(0)[0])\n",
    "                if  min_sys_ts > t:\n",
    "                    min_sys_ts = t\n",
    "                else:\n",
    "                    # may seem unnecessary, but tm doesn't have to be in order\n",
    "                    # e.g.loops\n",
    "                    if max_sys_ts < t:\n",
    "                        max_sys_ts = t\n",
    "                    \n",
    "        duration = (max_sys_ts - min_sys_ts)/1000000\n",
    "        complete_tuple = tuple([os.path.basename(trace)]) + sess_tuple + (max_sys_ts,min_sys_ts,duration)\n",
    "        sessions_list.append(complete_tuple) \n",
    "sessions_df =pd.DataFrame(sessions_list,columns = columns)"
   ]
  },
  {
   "cell_type": "code",
   "execution_count": 28,
   "id": "5553d09c",
   "metadata": {},
   "outputs": [
    {
     "data": {
      "text/html": [
       "<div>\n",
       "<style scoped>\n",
       "    .dataframe tbody tr th:only-of-type {\n",
       "        vertical-align: middle;\n",
       "    }\n",
       "\n",
       "    .dataframe tbody tr th {\n",
       "        vertical-align: top;\n",
       "    }\n",
       "\n",
       "    .dataframe thead th {\n",
       "        text-align: right;\n",
       "    }\n",
       "</style>\n",
       "<table border=\"1\" class=\"dataframe\">\n",
       "  <thead>\n",
       "    <tr style=\"text-align: right;\">\n",
       "      <th></th>\n",
       "      <th>sys_tm_max</th>\n",
       "      <th>sys_tm_min</th>\n",
       "      <th>duration_secs</th>\n",
       "    </tr>\n",
       "  </thead>\n",
       "  <tbody>\n",
       "    <tr>\n",
       "      <th>count</th>\n",
       "      <td>6.200000e+01</td>\n",
       "      <td>6.200000e+01</td>\n",
       "      <td>62.000000</td>\n",
       "    </tr>\n",
       "    <tr>\n",
       "      <th>mean</th>\n",
       "      <td>1.626103e+15</td>\n",
       "      <td>1.626103e+15</td>\n",
       "      <td>2.229786</td>\n",
       "    </tr>\n",
       "    <tr>\n",
       "      <th>std</th>\n",
       "      <td>9.327814e+09</td>\n",
       "      <td>9.328034e+09</td>\n",
       "      <td>2.097905</td>\n",
       "    </tr>\n",
       "    <tr>\n",
       "      <th>min</th>\n",
       "      <td>1.626091e+15</td>\n",
       "      <td>1.626090e+15</td>\n",
       "      <td>0.646564</td>\n",
       "    </tr>\n",
       "    <tr>\n",
       "      <th>25%</th>\n",
       "      <td>1.626094e+15</td>\n",
       "      <td>1.626094e+15</td>\n",
       "      <td>1.343379</td>\n",
       "    </tr>\n",
       "    <tr>\n",
       "      <th>50%</th>\n",
       "      <td>1.626102e+15</td>\n",
       "      <td>1.626102e+15</td>\n",
       "      <td>1.777895</td>\n",
       "    </tr>\n",
       "    <tr>\n",
       "      <th>75%</th>\n",
       "      <td>1.626112e+15</td>\n",
       "      <td>1.626112e+15</td>\n",
       "      <td>2.112691</td>\n",
       "    </tr>\n",
       "    <tr>\n",
       "      <th>max</th>\n",
       "      <td>1.626118e+15</td>\n",
       "      <td>1.626118e+15</td>\n",
       "      <td>15.648147</td>\n",
       "    </tr>\n",
       "  </tbody>\n",
       "</table>\n",
       "</div>"
      ],
      "text/plain": [
       "         sys_tm_max    sys_tm_min  duration_secs\n",
       "count  6.200000e+01  6.200000e+01      62.000000\n",
       "mean   1.626103e+15  1.626103e+15       2.229786\n",
       "std    9.327814e+09  9.328034e+09       2.097905\n",
       "min    1.626091e+15  1.626090e+15       0.646564\n",
       "25%    1.626094e+15  1.626094e+15       1.343379\n",
       "50%    1.626102e+15  1.626102e+15       1.777895\n",
       "75%    1.626112e+15  1.626112e+15       2.112691\n",
       "max    1.626118e+15  1.626118e+15      15.648147"
      ]
     },
     "execution_count": 28,
     "metadata": {},
     "output_type": "execute_result"
    }
   ],
   "source": [
    "sessions_df.describe()"
   ]
  },
  {
   "cell_type": "code",
   "execution_count": 29,
   "id": "a111fbba",
   "metadata": {},
   "outputs": [
    {
     "name": "stdout",
     "output_type": "stream",
     "text": [
      "<class 'pandas.core.frame.DataFrame'>\n",
      "RangeIndex: 62 entries, 0 to 61\n",
      "Data columns (total 6 columns):\n",
      " #   Column          Non-Null Count  Dtype  \n",
      "---  ------          --------------  -----  \n",
      " 0   filename        62 non-null     object \n",
      " 1   SessIdentifier  62 non-null     object \n",
      " 2   sess_start      62 non-null     object \n",
      " 3   sys_tm_max      62 non-null     int64  \n",
      " 4   sys_tm_min      62 non-null     int64  \n",
      " 5   duration_secs   62 non-null     float64\n",
      "dtypes: float64(1), int64(2), object(3)\n",
      "memory usage: 2.2+ KB\n"
     ]
    }
   ],
   "source": [
    "sessions_df.info()"
   ]
  },
  {
   "cell_type": "code",
   "execution_count": 30,
   "id": "a9bb61da",
   "metadata": {},
   "outputs": [
    {
     "data": {
      "text/html": [
       "<div>\n",
       "<style scoped>\n",
       "    .dataframe tbody tr th:only-of-type {\n",
       "        vertical-align: middle;\n",
       "    }\n",
       "\n",
       "    .dataframe tbody tr th {\n",
       "        vertical-align: top;\n",
       "    }\n",
       "\n",
       "    .dataframe thead th {\n",
       "        text-align: right;\n",
       "    }\n",
       "</style>\n",
       "<table border=\"1\" class=\"dataframe\">\n",
       "  <thead>\n",
       "    <tr style=\"text-align: right;\">\n",
       "      <th></th>\n",
       "      <th>filename</th>\n",
       "      <th>SessIdentifier</th>\n",
       "      <th>sess_start</th>\n",
       "      <th>sys_tm_max</th>\n",
       "      <th>sys_tm_min</th>\n",
       "      <th>duration_secs</th>\n",
       "    </tr>\n",
       "  </thead>\n",
       "  <tbody>\n",
       "    <tr>\n",
       "      <th>0</th>\n",
       "      <td>CARSPRD1_ora_1008.trc</td>\n",
       "      <td>2011.45273</td>\n",
       "      <td>2021-07-12 14:24:33.952</td>\n",
       "      <td>1626096275412068</td>\n",
       "      <td>1626096273952636</td>\n",
       "      <td>1.459432</td>\n",
       "    </tr>\n",
       "    <tr>\n",
       "      <th>1</th>\n",
       "      <td>CARSPRD1_ora_1129.trc</td>\n",
       "      <td>2154.37715</td>\n",
       "      <td>2021-07-12 18:16:16.408</td>\n",
       "      <td>1626110178374715</td>\n",
       "      <td>1626110176408339</td>\n",
       "      <td>1.966376</td>\n",
       "    </tr>\n",
       "  </tbody>\n",
       "</table>\n",
       "</div>"
      ],
      "text/plain": [
       "                filename SessIdentifier               sess_start  \\\n",
       "0  CARSPRD1_ora_1008.trc     2011.45273  2021-07-12 14:24:33.952   \n",
       "1  CARSPRD1_ora_1129.trc     2154.37715  2021-07-12 18:16:16.408   \n",
       "\n",
       "         sys_tm_max        sys_tm_min  duration_secs  \n",
       "0  1626096275412068  1626096273952636       1.459432  \n",
       "1  1626110178374715  1626110176408339       1.966376  "
      ]
     },
     "execution_count": 30,
     "metadata": {},
     "output_type": "execute_result"
    }
   ],
   "source": [
    "sessions_df.head(2)"
   ]
  },
  {
   "cell_type": "code",
   "execution_count": 31,
   "id": "a547d1ae",
   "metadata": {},
   "outputs": [],
   "source": [
    "sessions_df['sess_start']=pd.to_datetime(sessions_df['sess_start'],errors='ignore')"
   ]
  },
  {
   "cell_type": "code",
   "execution_count": 32,
   "id": "aace5317",
   "metadata": {},
   "outputs": [
    {
     "name": "stdout",
     "output_type": "stream",
     "text": [
      "<class 'pandas.core.frame.DataFrame'>\n",
      "RangeIndex: 62 entries, 0 to 61\n",
      "Data columns (total 6 columns):\n",
      " #   Column          Non-Null Count  Dtype         \n",
      "---  ------          --------------  -----         \n",
      " 0   filename        62 non-null     object        \n",
      " 1   SessIdentifier  62 non-null     object        \n",
      " 2   sess_start      62 non-null     datetime64[ns]\n",
      " 3   sys_tm_max      62 non-null     int64         \n",
      " 4   sys_tm_min      62 non-null     int64         \n",
      " 5   duration_secs   62 non-null     float64       \n",
      "dtypes: datetime64[ns](1), float64(1), int64(2), object(2)\n",
      "memory usage: 2.5+ KB\n"
     ]
    }
   ],
   "source": [
    "sessions_df.info()"
   ]
  },
  {
   "cell_type": "code",
   "execution_count": 33,
   "id": "affda301",
   "metadata": {},
   "outputs": [],
   "source": [
    "sessions_df.set_index('sess_start',inplace=True)"
   ]
  },
  {
   "cell_type": "code",
   "execution_count": 34,
   "id": "7860dd0c",
   "metadata": {},
   "outputs": [],
   "source": [
    "sessions_df.sort_index(inplace=True)\n"
   ]
  },
  {
   "cell_type": "code",
   "execution_count": 35,
   "id": "6403651c",
   "metadata": {},
   "outputs": [
    {
     "data": {
      "text/html": [
       "<div>\n",
       "<style scoped>\n",
       "    .dataframe tbody tr th:only-of-type {\n",
       "        vertical-align: middle;\n",
       "    }\n",
       "\n",
       "    .dataframe tbody tr th {\n",
       "        vertical-align: top;\n",
       "    }\n",
       "\n",
       "    .dataframe thead th {\n",
       "        text-align: right;\n",
       "    }\n",
       "</style>\n",
       "<table border=\"1\" class=\"dataframe\">\n",
       "  <thead>\n",
       "    <tr style=\"text-align: right;\">\n",
       "      <th></th>\n",
       "      <th>filename</th>\n",
       "      <th>SessIdentifier</th>\n",
       "      <th>sys_tm_max</th>\n",
       "      <th>sys_tm_min</th>\n",
       "      <th>duration_secs</th>\n",
       "    </tr>\n",
       "    <tr>\n",
       "      <th>sess_start</th>\n",
       "      <th></th>\n",
       "      <th></th>\n",
       "      <th></th>\n",
       "      <th></th>\n",
       "      <th></th>\n",
       "    </tr>\n",
       "  </thead>\n",
       "  <tbody>\n",
       "    <tr>\n",
       "      <th>2021-07-12 12:48:17.752</th>\n",
       "      <td>CARSPRD1_ora_74156.trc</td>\n",
       "      <td>1454.7617</td>\n",
       "      <td>1626090503499640</td>\n",
       "      <td>1626090497753748</td>\n",
       "      <td>5.745892</td>\n",
       "    </tr>\n",
       "    <tr>\n",
       "      <th>2021-07-12 12:50:36.438</th>\n",
       "      <td>CARSPRD1_ora_77344.trc</td>\n",
       "      <td>1194.41835</td>\n",
       "      <td>1626090638335926</td>\n",
       "      <td>1626090636439340</td>\n",
       "      <td>1.896586</td>\n",
       "    </tr>\n",
       "    <tr>\n",
       "      <th>2021-07-12 12:51:21.752</th>\n",
       "      <td>CARSPRD1_ora_78787.trc</td>\n",
       "      <td>1399.50341</td>\n",
       "      <td>1626090683638620</td>\n",
       "      <td>1626090681752682</td>\n",
       "      <td>1.885938</td>\n",
       "    </tr>\n",
       "    <tr>\n",
       "      <th>2021-07-12 12:53:33.300</th>\n",
       "      <td>CARSPRD1_ora_81070.trc</td>\n",
       "      <td>401.4253</td>\n",
       "      <td>1626090814320725</td>\n",
       "      <td>1626090813300723</td>\n",
       "      <td>1.020002</td>\n",
       "    </tr>\n",
       "    <tr>\n",
       "      <th>2021-07-12 12:55:14.309</th>\n",
       "      <td>CARSPRD1_ora_83199.trc</td>\n",
       "      <td>21.7667</td>\n",
       "      <td>1626090916087402</td>\n",
       "      <td>1626090914309375</td>\n",
       "      <td>1.778027</td>\n",
       "    </tr>\n",
       "    <tr>\n",
       "      <th>...</th>\n",
       "      <td>...</td>\n",
       "      <td>...</td>\n",
       "      <td>...</td>\n",
       "      <td>...</td>\n",
       "      <td>...</td>\n",
       "    </tr>\n",
       "    <tr>\n",
       "      <th>2021-07-12 19:48:57.158</th>\n",
       "      <td>CARSPRD1_ora_18387.trc</td>\n",
       "      <td>1643.56241</td>\n",
       "      <td>1626115738395299</td>\n",
       "      <td>1626115737157839</td>\n",
       "      <td>1.237460</td>\n",
       "    </tr>\n",
       "    <tr>\n",
       "      <th>2021-07-12 19:52:56.784</th>\n",
       "      <td>CARSPRD1_ora_23344.trc</td>\n",
       "      <td>1815.5595</td>\n",
       "      <td>1626115978652648</td>\n",
       "      <td>1626115976784738</td>\n",
       "      <td>1.867910</td>\n",
       "    </tr>\n",
       "    <tr>\n",
       "      <th>2021-07-12 20:02:44.374</th>\n",
       "      <td>CARSPRD1_ora_37860.trc</td>\n",
       "      <td>420.12555</td>\n",
       "      <td>1626116566277014</td>\n",
       "      <td>1626116564374751</td>\n",
       "      <td>1.902263</td>\n",
       "    </tr>\n",
       "    <tr>\n",
       "      <th>2021-07-12 20:24:59.584</th>\n",
       "      <td>CARSPRD1_ora_62705.trc</td>\n",
       "      <td>61.51377</td>\n",
       "      <td>1626117901577907</td>\n",
       "      <td>1626117899584196</td>\n",
       "      <td>1.993711</td>\n",
       "    </tr>\n",
       "    <tr>\n",
       "      <th>2021-07-12 20:34:04.873</th>\n",
       "      <td>CARSPRD1_ora_73473.trc</td>\n",
       "      <td>1804.47739</td>\n",
       "      <td>1626118446382832</td>\n",
       "      <td>1626118444872920</td>\n",
       "      <td>1.509912</td>\n",
       "    </tr>\n",
       "  </tbody>\n",
       "</table>\n",
       "<p>62 rows × 5 columns</p>\n",
       "</div>"
      ],
      "text/plain": [
       "                                       filename SessIdentifier  \\\n",
       "sess_start                                                       \n",
       "2021-07-12 12:48:17.752  CARSPRD1_ora_74156.trc      1454.7617   \n",
       "2021-07-12 12:50:36.438  CARSPRD1_ora_77344.trc     1194.41835   \n",
       "2021-07-12 12:51:21.752  CARSPRD1_ora_78787.trc     1399.50341   \n",
       "2021-07-12 12:53:33.300  CARSPRD1_ora_81070.trc       401.4253   \n",
       "2021-07-12 12:55:14.309  CARSPRD1_ora_83199.trc        21.7667   \n",
       "...                                         ...            ...   \n",
       "2021-07-12 19:48:57.158  CARSPRD1_ora_18387.trc     1643.56241   \n",
       "2021-07-12 19:52:56.784  CARSPRD1_ora_23344.trc      1815.5595   \n",
       "2021-07-12 20:02:44.374  CARSPRD1_ora_37860.trc      420.12555   \n",
       "2021-07-12 20:24:59.584  CARSPRD1_ora_62705.trc       61.51377   \n",
       "2021-07-12 20:34:04.873  CARSPRD1_ora_73473.trc     1804.47739   \n",
       "\n",
       "                               sys_tm_max        sys_tm_min  duration_secs  \n",
       "sess_start                                                                  \n",
       "2021-07-12 12:48:17.752  1626090503499640  1626090497753748       5.745892  \n",
       "2021-07-12 12:50:36.438  1626090638335926  1626090636439340       1.896586  \n",
       "2021-07-12 12:51:21.752  1626090683638620  1626090681752682       1.885938  \n",
       "2021-07-12 12:53:33.300  1626090814320725  1626090813300723       1.020002  \n",
       "2021-07-12 12:55:14.309  1626090916087402  1626090914309375       1.778027  \n",
       "...                                   ...               ...            ...  \n",
       "2021-07-12 19:48:57.158  1626115738395299  1626115737157839       1.237460  \n",
       "2021-07-12 19:52:56.784  1626115978652648  1626115976784738       1.867910  \n",
       "2021-07-12 20:02:44.374  1626116566277014  1626116564374751       1.902263  \n",
       "2021-07-12 20:24:59.584  1626117901577907  1626117899584196       1.993711  \n",
       "2021-07-12 20:34:04.873  1626118446382832  1626118444872920       1.509912  \n",
       "\n",
       "[62 rows x 5 columns]"
      ]
     },
     "execution_count": 35,
     "metadata": {},
     "output_type": "execute_result"
    }
   ],
   "source": [
    "sessions_df"
   ]
  },
  {
   "cell_type": "markdown",
   "id": "b896dff3",
   "metadata": {},
   "source": [
    "## Scatter plot sessions vs duration"
   ]
  },
  {
   "cell_type": "code",
   "execution_count": 36,
   "id": "4c859234",
   "metadata": {
    "scrolled": true
   },
   "outputs": [
    {
     "data": {
      "text/plain": [
       "<AxesSubplot:xlabel='sess_start', ylabel='duration_secs'>"
      ]
     },
     "execution_count": 36,
     "metadata": {},
     "output_type": "execute_result"
    },
    {
     "data": {
      "image/png": "[encoded data removed]",
      "text/plain": [
       "<Figure size 432x288 with 1 Axes>"
      ]
     },
     "metadata": {
      "needs_background": "light"
     },
     "output_type": "display_data"
    }
   ],
   "source": [
    "\n",
    "sessions_df.reset_index().plot.scatter(x = 'sess_start', \n",
    "                                       y = 'duration_secs',\n",
    "                                       grid =True,\n",
    "                                       rot=45\n",
    "                                      )"
   ]
  },
  {
   "cell_type": "markdown",
   "id": "fd41907d",
   "metadata": {},
   "source": [
    "## Sorted Data set by duration (descending)"
   ]
  },
  {
   "cell_type": "code",
   "execution_count": 37,
   "id": "b17eff85",
   "metadata": {},
   "outputs": [
    {
     "data": {
      "text/html": [
       "<div>\n",
       "<style scoped>\n",
       "    .dataframe tbody tr th:only-of-type {\n",
       "        vertical-align: middle;\n",
       "    }\n",
       "\n",
       "    .dataframe tbody tr th {\n",
       "        vertical-align: top;\n",
       "    }\n",
       "\n",
       "    .dataframe thead th {\n",
       "        text-align: right;\n",
       "    }\n",
       "</style>\n",
       "<table border=\"1\" class=\"dataframe\">\n",
       "  <thead>\n",
       "    <tr style=\"text-align: right;\">\n",
       "      <th></th>\n",
       "      <th>filename</th>\n",
       "      <th>SessIdentifier</th>\n",
       "      <th>sys_tm_max</th>\n",
       "      <th>sys_tm_min</th>\n",
       "      <th>duration_secs</th>\n",
       "    </tr>\n",
       "    <tr>\n",
       "      <th>sess_start</th>\n",
       "      <th></th>\n",
       "      <th></th>\n",
       "      <th></th>\n",
       "      <th></th>\n",
       "      <th></th>\n",
       "    </tr>\n",
       "  </thead>\n",
       "  <tbody>\n",
       "    <tr>\n",
       "      <th>2021-07-12 17:33:51.151</th>\n",
       "      <td>CARSPRD1_ora_49119.trc</td>\n",
       "      <td>1924.24337</td>\n",
       "      <td>1626107646799708</td>\n",
       "      <td>1626107631151561</td>\n",
       "      <td>15.648147</td>\n",
       "    </tr>\n",
       "    <tr>\n",
       "      <th>2021-07-12 15:05:55.847</th>\n",
       "      <td>CARSPRD1_ora_61667.trc</td>\n",
       "      <td>493.26433</td>\n",
       "      <td>1626098762369990</td>\n",
       "      <td>1626098755848591</td>\n",
       "      <td>6.521399</td>\n",
       "    </tr>\n",
       "    <tr>\n",
       "      <th>2021-07-12 13:30:33.729</th>\n",
       "      <td>CARSPRD1_ora_28965.trc</td>\n",
       "      <td>613.37751</td>\n",
       "      <td>1626093040085278</td>\n",
       "      <td>1626093033729347</td>\n",
       "      <td>6.355931</td>\n",
       "    </tr>\n",
       "    <tr>\n",
       "      <th>2021-07-12 12:48:17.752</th>\n",
       "      <td>CARSPRD1_ora_74156.trc</td>\n",
       "      <td>1454.7617</td>\n",
       "      <td>1626090503499640</td>\n",
       "      <td>1626090497753748</td>\n",
       "      <td>5.745892</td>\n",
       "    </tr>\n",
       "    <tr>\n",
       "      <th>2021-07-12 13:01:55.739</th>\n",
       "      <td>CARSPRD1_ora_93050.trc</td>\n",
       "      <td>486.23061</td>\n",
       "      <td>1626091319537230</td>\n",
       "      <td>1626091315740511</td>\n",
       "      <td>3.796719</td>\n",
       "    </tr>\n",
       "    <tr>\n",
       "      <th>...</th>\n",
       "      <td>...</td>\n",
       "      <td>...</td>\n",
       "      <td>...</td>\n",
       "      <td>...</td>\n",
       "      <td>...</td>\n",
       "    </tr>\n",
       "    <tr>\n",
       "      <th>2021-07-12 19:44:00.027</th>\n",
       "      <td>CARSPRD1_ora_12801.trc</td>\n",
       "      <td>2190.46825</td>\n",
       "      <td>1626115440995112</td>\n",
       "      <td>1626115440026670</td>\n",
       "      <td>0.968442</td>\n",
       "    </tr>\n",
       "    <tr>\n",
       "      <th>2021-07-12 19:46:04.578</th>\n",
       "      <td>CARSPRD1_ora_15956.trc</td>\n",
       "      <td>613.41467</td>\n",
       "      <td>1626115565485243</td>\n",
       "      <td>1626115564577903</td>\n",
       "      <td>0.907340</td>\n",
       "    </tr>\n",
       "    <tr>\n",
       "      <th>2021-07-12 19:40:49.437</th>\n",
       "      <td>CARSPRD1_ora_9380.trc</td>\n",
       "      <td>1951.29975</td>\n",
       "      <td>1626115250303870</td>\n",
       "      <td>1626115249436834</td>\n",
       "      <td>0.867036</td>\n",
       "    </tr>\n",
       "    <tr>\n",
       "      <th>2021-07-12 18:46:48.831</th>\n",
       "      <td>CARSPRD1_ora_37966.trc</td>\n",
       "      <td>311.53643</td>\n",
       "      <td>1626112009581906</td>\n",
       "      <td>1626112008831345</td>\n",
       "      <td>0.750561</td>\n",
       "    </tr>\n",
       "    <tr>\n",
       "      <th>2021-07-12 18:46:24.500</th>\n",
       "      <td>CARSPRD1_ora_37768.trc</td>\n",
       "      <td>311.53637</td>\n",
       "      <td>1626111985146413</td>\n",
       "      <td>1626111984499849</td>\n",
       "      <td>0.646564</td>\n",
       "    </tr>\n",
       "  </tbody>\n",
       "</table>\n",
       "<p>62 rows × 5 columns</p>\n",
       "</div>"
      ],
      "text/plain": [
       "                                       filename SessIdentifier  \\\n",
       "sess_start                                                       \n",
       "2021-07-12 17:33:51.151  CARSPRD1_ora_49119.trc     1924.24337   \n",
       "2021-07-12 15:05:55.847  CARSPRD1_ora_61667.trc      493.26433   \n",
       "2021-07-12 13:30:33.729  CARSPRD1_ora_28965.trc      613.37751   \n",
       "2021-07-12 12:48:17.752  CARSPRD1_ora_74156.trc      1454.7617   \n",
       "2021-07-12 13:01:55.739  CARSPRD1_ora_93050.trc      486.23061   \n",
       "...                                         ...            ...   \n",
       "2021-07-12 19:44:00.027  CARSPRD1_ora_12801.trc     2190.46825   \n",
       "2021-07-12 19:46:04.578  CARSPRD1_ora_15956.trc      613.41467   \n",
       "2021-07-12 19:40:49.437   CARSPRD1_ora_9380.trc     1951.29975   \n",
       "2021-07-12 18:46:48.831  CARSPRD1_ora_37966.trc      311.53643   \n",
       "2021-07-12 18:46:24.500  CARSPRD1_ora_37768.trc      311.53637   \n",
       "\n",
       "                               sys_tm_max        sys_tm_min  duration_secs  \n",
       "sess_start                                                                  \n",
       "2021-07-12 17:33:51.151  1626107646799708  1626107631151561      15.648147  \n",
       "2021-07-12 15:05:55.847  1626098762369990  1626098755848591       6.521399  \n",
       "2021-07-12 13:30:33.729  1626093040085278  1626093033729347       6.355931  \n",
       "2021-07-12 12:48:17.752  1626090503499640  1626090497753748       5.745892  \n",
       "2021-07-12 13:01:55.739  1626091319537230  1626091315740511       3.796719  \n",
       "...                                   ...               ...            ...  \n",
       "2021-07-12 19:44:00.027  1626115440995112  1626115440026670       0.968442  \n",
       "2021-07-12 19:46:04.578  1626115565485243  1626115564577903       0.907340  \n",
       "2021-07-12 19:40:49.437  1626115250303870  1626115249436834       0.867036  \n",
       "2021-07-12 18:46:48.831  1626112009581906  1626112008831345       0.750561  \n",
       "2021-07-12 18:46:24.500  1626111985146413  1626111984499849       0.646564  \n",
       "\n",
       "[62 rows x 5 columns]"
      ]
     },
     "execution_count": 37,
     "metadata": {},
     "output_type": "execute_result"
    }
   ],
   "source": [
    "sessions_df.sort_values(['duration_secs'],ascending=False)"
   ]
  },
  {
   "cell_type": "markdown",
   "id": "d03d6c9c",
   "metadata": {},
   "source": [
    "## Seaborn visual WIP"
   ]
  },
  {
   "cell_type": "code",
   "execution_count": 24,
   "id": "bd985fa6",
   "metadata": {},
   "outputs": [
    {
     "data": {
      "text/plain": [
       "<AxesSubplot:xlabel='sess_start', ylabel='duration_secs'>"
      ]
     },
     "execution_count": 24,
     "metadata": {},
     "output_type": "execute_result"
    },
    {
     "data": {
      "image/png": "[encoded data removed]",
      "text/plain": [
       "<Figure size 468x468 with 1 Axes>"
      ]
     },
     "metadata": {
      "needs_background": "light"
     },
     "output_type": "display_data"
    }
   ],
   "source": [
    "import seaborn as sns\n",
    "import matplotlib.pyplot as plt\n",
    "# Draw a scatter plot while assigning point colors and sizes to different\n",
    "# variables in the dataset\n",
    "f, ax = plt.subplots(figsize=(6.5, 6.5))\n",
    "sns.despine(f, left=True, bottom=True)\n",
    "sns.scatterplot(x=\"sess_start\", y=\"duration_secs\",\n",
    "                #hue=\"clarity\", size=\"depth\",\n",
    "                palette=\"ch:r=-.2,d=.3_r\",\n",
    "                sizes=(1, 8), linewidth=0,\n",
    "                data=sessions_df.reset_index(), ax=ax)"
   ]
  }
 ],
 "metadata": {
  "kernelspec": {
   "display_name": "Python 3",
   "language": "python",
   "name": "python3"
  },
  "language_info": {
   "codemirror_mode": {
    "name": "ipython",
    "version": 3
   },
   "file_extension": ".py",
   "mimetype": "text/x-python",
   "name": "python",
   "nbconvert_exporter": "python",
   "pygments_lexer": "ipython3",
   "version": "3.8.8"
  }
 },
 "nbformat": 4,
 "nbformat_minor": 5
}
